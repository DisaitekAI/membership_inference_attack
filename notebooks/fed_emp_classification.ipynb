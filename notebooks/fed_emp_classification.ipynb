{
 "cells": [
  {
   "cell_type": "code",
   "execution_count": 1,
   "metadata": {},
   "outputs": [],
   "source": [
    "%matplotlib inline\n",
    "from pathlib import Path\n",
    "import pandas as pd\n",
    "\n",
    "import torch\n",
    "import torch.nn as nn\n",
    "import torch.nn.functional as F\n",
    "import torch.optim as optim"
   ]
  },
  {
   "cell_type": "code",
   "execution_count": 2,
   "metadata": {},
   "outputs": [],
   "source": [
    "data_path = Path('../data/')\n",
    "df        = pd.read_csv(data_path / 'interim' / 'fed_emp.csv')"
   ]
  },
  {
   "cell_type": "code",
   "execution_count": 3,
   "metadata": {},
   "outputs": [
    {
     "data": {
      "text/plain": [
       "AGYSUB      0\n",
       "LOC         0\n",
       "AGELVL      0\n",
       "EDLVL       0\n",
       "GSEGRD      0\n",
       "LOSLVL      0\n",
       "OCC         0\n",
       "PATCO       0\n",
       "PPGRD       0\n",
       "SALLVL      0\n",
       "STEMOCC     0\n",
       "SUPERVIS    0\n",
       "TOA         0\n",
       "WORKSCH     0\n",
       "WORKSTAT    0\n",
       "SALARY      0\n",
       "LOS         0\n",
       "dtype: int64"
      ]
     },
     "execution_count": 3,
     "metadata": {},
     "output_type": "execute_result"
    }
   ],
   "source": [
    "# Removing the lines for which the target in unknown\n",
    "df                                   = df[~df.EDLVL.isnull()]\n",
    "# Removing the nan values in columns by either adding a new category\n",
    "# or dropping the lines\n",
    "df.loc[df.GSEGRD.isnull(), 'GSEGRD'] = 0\n",
    "df.loc[df.OCC.isnull(), 'OCC']       = 0\n",
    "df                                   = df[~df.SUPERVIS.isnull()]\n",
    "df                                   = df[~df.TOA.isnull()]\n",
    "df                                   = df[~df.SALARY.isnull()]\n",
    "df                                   = df[~df.LOS.isnull()]\n",
    "df.isnull().sum(axis = 0)"
   ]
  },
  {
   "cell_type": "code",
   "execution_count": 4,
   "metadata": {},
   "outputs": [
    {
     "data": {
      "text/plain": [
       "<matplotlib.axes._subplots.AxesSubplot at 0x7f430c3ace10>"
      ]
     },
     "execution_count": 4,
     "metadata": {},
     "output_type": "execute_result"
    },
    {
     "data": {
      "image/png": "[encoded data removed]",
      "text/plain": [
       "<Figure size 432x288 with 1 Axes>"
      ]
     },
     "metadata": {
      "needs_background": "light"
     },
     "output_type": "display_data"
    }
   ],
   "source": [
    "df_data    = df.drop(['EDLVL'], axis = 1)\n",
    "df_target  = df['EDLVL']\n",
    "df_target  = df_target - 1 # Values between 0 and 21 instead of 1 and 22\n",
    "df_target.hist(bins = 22)"
   ]
  },
  {
   "cell_type": "code",
   "execution_count": 5,
   "metadata": {},
   "outputs": [],
   "source": [
    "numerical_columns = ['SALARY', 'LOS']\n",
    "df_num            = df_data[numerical_columns]\n",
    "df_cat            = df_data.drop(numerical_columns, axis = 1) "
   ]
  },
  {
   "cell_type": "code",
   "execution_count": 6,
   "metadata": {},
   "outputs": [],
   "source": [
    "columns_encoders = {\n",
    "    col : {\n",
    "        val : i \n",
    "        for i, val in enumerate(df[col].unique())\n",
    "    }\n",
    "    for col in df_cat.columns\n",
    "}"
   ]
  },
  {
   "cell_type": "code",
   "execution_count": 7,
   "metadata": {},
   "outputs": [],
   "source": [
    "for col in df_cat.columns:\n",
    "    df_cat[col] = df_cat[col].apply(lambda x: columns_encoders[col][x])"
   ]
  },
  {
   "cell_type": "code",
   "execution_count": 10,
   "metadata": {},
   "outputs": [
    {
     "data": {
      "text/plain": [
       "((1812893, 14), (1812893, 2))"
      ]
     },
     "execution_count": 10,
     "metadata": {},
     "output_type": "execute_result"
    }
   ],
   "source": [
    "df_cat.shape, df_num.shape"
   ]
  },
  {
   "cell_type": "code",
   "execution_count": 73,
   "metadata": {},
   "outputs": [],
   "source": [
    "class CategoricalEmbeddings(nn.Module):\n",
    "    def __init__(self, col_order, col_encoders, col_to_emb_dim):\n",
    "        super(CategoricalEmbeddings, self).__init__()\n",
    "        self.col_order = col_order \n",
    "        self.cat_embs  = nn.ModuleDict({\n",
    "            col: nn.Embedding(len(col_encoders[col]), col_to_emb_dim[col])\n",
    "            for col in col_order\n",
    "        })\n",
    "        \n",
    "    def forward(self, cat_variables):\n",
    "        embeddings = [self.cat_embs[col](cat_variables[col]) for col in self.col_order]\n",
    "        \n",
    "        return torch.cat(embeddings, dim = 1)"
   ]
  },
  {
   "cell_type": "code",
   "execution_count": 94,
   "metadata": {},
   "outputs": [],
   "source": [
    "class EdlvlClassifier(nn.Module):\n",
    "    def __init__(self, col_order, col_encoders, col_to_emb_dim):\n",
    "        super(EdlvlClassifier, self).__init__()\n",
    "        self.cat_emb    = CategoricalEmbeddings(col_order, col_encoders, col_to_emb_dim)\n",
    "        sum_cat_emb_dim = sum(col_to_emb_dim.values())\n",
    "        self.linear1    = nn.Linear(sum_cat_emb_dim + 2, 128)\n",
    "        self.linear2    = nn.Linear(128, 22)\n",
    "        \n",
    "    def forward(self, cat_variables, num_variables):\n",
    "        cat_embeddings = self.cat_emb(cat_variables)\n",
    "        cat_num_tensor = torch.cat([cat_embeddings, num_variables], dim = 1)\n",
    "        out_linear1    = F.relu(self.linear1(cat_num_tensor))\n",
    "        out_linear2    = self.linear2(out_linear1)\n",
    "        \n",
    "        return out_linear2"
   ]
  },
  {
   "cell_type": "code",
   "execution_count": 95,
   "metadata": {},
   "outputs": [
    {
     "data": {
      "text/plain": [
       "EdlvlClassifier(\n",
       "  (cat_emb): CategoricalEmbeddings(\n",
       "    (cat_embs): ModuleDict(\n",
       "      (AGELVL): Embedding(12, 2)\n",
       "      (AGYSUB): Embedding(523, 2)\n",
       "      (GSEGRD): Embedding(16, 2)\n",
       "      (LOC): Embedding(219, 2)\n",
       "      (LOSLVL): Embedding(10, 2)\n",
       "      (OCC): Embedding(656, 2)\n",
       "      (PATCO): Embedding(7, 2)\n",
       "      (PPGRD): Embedding(933, 2)\n",
       "      (SALLVL): Embedding(25, 2)\n",
       "      (STEMOCC): Embedding(100, 2)\n",
       "      (SUPERVIS): Embedding(6, 2)\n",
       "      (TOA): Embedding(18, 2)\n",
       "      (WORKSCH): Embedding(10, 2)\n",
       "      (WORKSTAT): Embedding(2, 2)\n",
       "    )\n",
       "  )\n",
       "  (linear1): Linear(in_features=30, out_features=128, bias=True)\n",
       "  (linear2): Linear(in_features=128, out_features=22, bias=True)\n",
       ")"
      ]
     },
     "execution_count": 95,
     "metadata": {},
     "output_type": "execute_result"
    }
   ],
   "source": [
    "model = EdlvlClassifier(\n",
    "    list(columns_encoders.keys()),\n",
    "    columns_encoders,\n",
    "    {\n",
    "        col : 2\n",
    "        for col in columns_encoders\n",
    "    }\n",
    ")\n",
    "model"
   ]
  },
  {
   "cell_type": "code",
   "execution_count": 83,
   "metadata": {},
   "outputs": [
    {
     "data": {
      "text/html": [
       "<div>\n",
       "<style scoped>\n",
       "    .dataframe tbody tr th:only-of-type {\n",
       "        vertical-align: middle;\n",
       "    }\n",
       "\n",
       "    .dataframe tbody tr th {\n",
       "        vertical-align: top;\n",
       "    }\n",
       "\n",
       "    .dataframe thead th {\n",
       "        text-align: right;\n",
       "    }\n",
       "</style>\n",
       "<table border=\"1\" class=\"dataframe\">\n",
       "  <thead>\n",
       "    <tr style=\"text-align: right;\">\n",
       "      <th></th>\n",
       "      <th>AGYSUB</th>\n",
       "      <th>LOC</th>\n",
       "      <th>AGELVL</th>\n",
       "      <th>GSEGRD</th>\n",
       "      <th>LOSLVL</th>\n",
       "      <th>OCC</th>\n",
       "      <th>PATCO</th>\n",
       "      <th>PPGRD</th>\n",
       "      <th>SALLVL</th>\n",
       "      <th>STEMOCC</th>\n",
       "      <th>SUPERVIS</th>\n",
       "      <th>TOA</th>\n",
       "      <th>WORKSCH</th>\n",
       "      <th>WORKSTAT</th>\n",
       "    </tr>\n",
       "  </thead>\n",
       "  <tbody>\n",
       "    <tr>\n",
       "      <th>1</th>\n",
       "      <td>0</td>\n",
       "      <td>0</td>\n",
       "      <td>0</td>\n",
       "      <td>0</td>\n",
       "      <td>0</td>\n",
       "      <td>0</td>\n",
       "      <td>0</td>\n",
       "      <td>0</td>\n",
       "      <td>0</td>\n",
       "      <td>0</td>\n",
       "      <td>0</td>\n",
       "      <td>0</td>\n",
       "      <td>0</td>\n",
       "      <td>0</td>\n",
       "    </tr>\n",
       "    <tr>\n",
       "      <th>2</th>\n",
       "      <td>0</td>\n",
       "      <td>0</td>\n",
       "      <td>1</td>\n",
       "      <td>1</td>\n",
       "      <td>1</td>\n",
       "      <td>1</td>\n",
       "      <td>1</td>\n",
       "      <td>1</td>\n",
       "      <td>1</td>\n",
       "      <td>1</td>\n",
       "      <td>0</td>\n",
       "      <td>1</td>\n",
       "      <td>0</td>\n",
       "      <td>0</td>\n",
       "    </tr>\n",
       "    <tr>\n",
       "      <th>3</th>\n",
       "      <td>0</td>\n",
       "      <td>0</td>\n",
       "      <td>1</td>\n",
       "      <td>2</td>\n",
       "      <td>1</td>\n",
       "      <td>1</td>\n",
       "      <td>1</td>\n",
       "      <td>2</td>\n",
       "      <td>2</td>\n",
       "      <td>1</td>\n",
       "      <td>0</td>\n",
       "      <td>1</td>\n",
       "      <td>0</td>\n",
       "      <td>0</td>\n",
       "    </tr>\n",
       "    <tr>\n",
       "      <th>4</th>\n",
       "      <td>0</td>\n",
       "      <td>0</td>\n",
       "      <td>2</td>\n",
       "      <td>1</td>\n",
       "      <td>1</td>\n",
       "      <td>1</td>\n",
       "      <td>1</td>\n",
       "      <td>1</td>\n",
       "      <td>1</td>\n",
       "      <td>1</td>\n",
       "      <td>0</td>\n",
       "      <td>1</td>\n",
       "      <td>0</td>\n",
       "      <td>0</td>\n",
       "    </tr>\n",
       "    <tr>\n",
       "      <th>6</th>\n",
       "      <td>0</td>\n",
       "      <td>0</td>\n",
       "      <td>1</td>\n",
       "      <td>3</td>\n",
       "      <td>2</td>\n",
       "      <td>2</td>\n",
       "      <td>0</td>\n",
       "      <td>3</td>\n",
       "      <td>3</td>\n",
       "      <td>1</td>\n",
       "      <td>0</td>\n",
       "      <td>2</td>\n",
       "      <td>0</td>\n",
       "      <td>0</td>\n",
       "    </tr>\n",
       "    <tr>\n",
       "      <th>8</th>\n",
       "      <td>0</td>\n",
       "      <td>0</td>\n",
       "      <td>1</td>\n",
       "      <td>4</td>\n",
       "      <td>1</td>\n",
       "      <td>1</td>\n",
       "      <td>1</td>\n",
       "      <td>4</td>\n",
       "      <td>4</td>\n",
       "      <td>1</td>\n",
       "      <td>0</td>\n",
       "      <td>1</td>\n",
       "      <td>0</td>\n",
       "      <td>0</td>\n",
       "    </tr>\n",
       "    <tr>\n",
       "      <th>9</th>\n",
       "      <td>0</td>\n",
       "      <td>0</td>\n",
       "      <td>3</td>\n",
       "      <td>3</td>\n",
       "      <td>1</td>\n",
       "      <td>3</td>\n",
       "      <td>0</td>\n",
       "      <td>3</td>\n",
       "      <td>3</td>\n",
       "      <td>1</td>\n",
       "      <td>0</td>\n",
       "      <td>2</td>\n",
       "      <td>0</td>\n",
       "      <td>0</td>\n",
       "    </tr>\n",
       "    <tr>\n",
       "      <th>10</th>\n",
       "      <td>0</td>\n",
       "      <td>0</td>\n",
       "      <td>4</td>\n",
       "      <td>3</td>\n",
       "      <td>3</td>\n",
       "      <td>1</td>\n",
       "      <td>1</td>\n",
       "      <td>3</td>\n",
       "      <td>3</td>\n",
       "      <td>1</td>\n",
       "      <td>0</td>\n",
       "      <td>2</td>\n",
       "      <td>0</td>\n",
       "      <td>0</td>\n",
       "    </tr>\n",
       "    <tr>\n",
       "      <th>11</th>\n",
       "      <td>1</td>\n",
       "      <td>1</td>\n",
       "      <td>5</td>\n",
       "      <td>4</td>\n",
       "      <td>4</td>\n",
       "      <td>4</td>\n",
       "      <td>1</td>\n",
       "      <td>4</td>\n",
       "      <td>4</td>\n",
       "      <td>2</td>\n",
       "      <td>0</td>\n",
       "      <td>0</td>\n",
       "      <td>0</td>\n",
       "      <td>0</td>\n",
       "    </tr>\n",
       "    <tr>\n",
       "      <th>12</th>\n",
       "      <td>1</td>\n",
       "      <td>1</td>\n",
       "      <td>6</td>\n",
       "      <td>4</td>\n",
       "      <td>2</td>\n",
       "      <td>5</td>\n",
       "      <td>0</td>\n",
       "      <td>4</td>\n",
       "      <td>4</td>\n",
       "      <td>1</td>\n",
       "      <td>1</td>\n",
       "      <td>3</td>\n",
       "      <td>0</td>\n",
       "      <td>1</td>\n",
       "    </tr>\n",
       "    <tr>\n",
       "      <th>13</th>\n",
       "      <td>1</td>\n",
       "      <td>2</td>\n",
       "      <td>3</td>\n",
       "      <td>4</td>\n",
       "      <td>5</td>\n",
       "      <td>2</td>\n",
       "      <td>0</td>\n",
       "      <td>4</td>\n",
       "      <td>5</td>\n",
       "      <td>1</td>\n",
       "      <td>1</td>\n",
       "      <td>0</td>\n",
       "      <td>0</td>\n",
       "      <td>0</td>\n",
       "    </tr>\n",
       "    <tr>\n",
       "      <th>14</th>\n",
       "      <td>1</td>\n",
       "      <td>2</td>\n",
       "      <td>6</td>\n",
       "      <td>2</td>\n",
       "      <td>0</td>\n",
       "      <td>6</td>\n",
       "      <td>0</td>\n",
       "      <td>2</td>\n",
       "      <td>2</td>\n",
       "      <td>1</td>\n",
       "      <td>1</td>\n",
       "      <td>0</td>\n",
       "      <td>0</td>\n",
       "      <td>0</td>\n",
       "    </tr>\n",
       "    <tr>\n",
       "      <th>15</th>\n",
       "      <td>1</td>\n",
       "      <td>2</td>\n",
       "      <td>1</td>\n",
       "      <td>5</td>\n",
       "      <td>2</td>\n",
       "      <td>7</td>\n",
       "      <td>0</td>\n",
       "      <td>5</td>\n",
       "      <td>0</td>\n",
       "      <td>1</td>\n",
       "      <td>0</td>\n",
       "      <td>0</td>\n",
       "      <td>0</td>\n",
       "      <td>0</td>\n",
       "    </tr>\n",
       "    <tr>\n",
       "      <th>16</th>\n",
       "      <td>1</td>\n",
       "      <td>2</td>\n",
       "      <td>5</td>\n",
       "      <td>4</td>\n",
       "      <td>1</td>\n",
       "      <td>7</td>\n",
       "      <td>0</td>\n",
       "      <td>4</td>\n",
       "      <td>4</td>\n",
       "      <td>1</td>\n",
       "      <td>1</td>\n",
       "      <td>4</td>\n",
       "      <td>0</td>\n",
       "      <td>0</td>\n",
       "    </tr>\n",
       "    <tr>\n",
       "      <th>17</th>\n",
       "      <td>1</td>\n",
       "      <td>2</td>\n",
       "      <td>3</td>\n",
       "      <td>6</td>\n",
       "      <td>3</td>\n",
       "      <td>8</td>\n",
       "      <td>2</td>\n",
       "      <td>6</td>\n",
       "      <td>6</td>\n",
       "      <td>1</td>\n",
       "      <td>0</td>\n",
       "      <td>0</td>\n",
       "      <td>0</td>\n",
       "      <td>0</td>\n",
       "    </tr>\n",
       "    <tr>\n",
       "      <th>18</th>\n",
       "      <td>1</td>\n",
       "      <td>2</td>\n",
       "      <td>3</td>\n",
       "      <td>4</td>\n",
       "      <td>2</td>\n",
       "      <td>9</td>\n",
       "      <td>1</td>\n",
       "      <td>4</td>\n",
       "      <td>7</td>\n",
       "      <td>1</td>\n",
       "      <td>0</td>\n",
       "      <td>0</td>\n",
       "      <td>0</td>\n",
       "      <td>0</td>\n",
       "    </tr>\n",
       "  </tbody>\n",
       "</table>\n",
       "</div>"
      ],
      "text/plain": [
       "    AGYSUB  LOC  AGELVL  GSEGRD  LOSLVL  OCC  PATCO  PPGRD  SALLVL  STEMOCC  \\\n",
       "1        0    0       0       0       0    0      0      0       0        0   \n",
       "2        0    0       1       1       1    1      1      1       1        1   \n",
       "3        0    0       1       2       1    1      1      2       2        1   \n",
       "4        0    0       2       1       1    1      1      1       1        1   \n",
       "6        0    0       1       3       2    2      0      3       3        1   \n",
       "8        0    0       1       4       1    1      1      4       4        1   \n",
       "9        0    0       3       3       1    3      0      3       3        1   \n",
       "10       0    0       4       3       3    1      1      3       3        1   \n",
       "11       1    1       5       4       4    4      1      4       4        2   \n",
       "12       1    1       6       4       2    5      0      4       4        1   \n",
       "13       1    2       3       4       5    2      0      4       5        1   \n",
       "14       1    2       6       2       0    6      0      2       2        1   \n",
       "15       1    2       1       5       2    7      0      5       0        1   \n",
       "16       1    2       5       4       1    7      0      4       4        1   \n",
       "17       1    2       3       6       3    8      2      6       6        1   \n",
       "18       1    2       3       4       2    9      1      4       7        1   \n",
       "\n",
       "    SUPERVIS  TOA  WORKSCH  WORKSTAT  \n",
       "1          0    0        0         0  \n",
       "2          0    1        0         0  \n",
       "3          0    1        0         0  \n",
       "4          0    1        0         0  \n",
       "6          0    2        0         0  \n",
       "8          0    1        0         0  \n",
       "9          0    2        0         0  \n",
       "10         0    2        0         0  \n",
       "11         0    0        0         0  \n",
       "12         1    3        0         1  \n",
       "13         1    0        0         0  \n",
       "14         1    0        0         0  \n",
       "15         0    0        0         0  \n",
       "16         1    4        0         0  \n",
       "17         0    0        0         0  \n",
       "18         0    0        0         0  "
      ]
     },
     "execution_count": 83,
     "metadata": {},
     "output_type": "execute_result"
    }
   ],
   "source": [
    "df_batch = df_cat.head(16)\n",
    "df_batch"
   ]
  },
  {
   "cell_type": "code",
   "execution_count": 76,
   "metadata": {},
   "outputs": [
    {
     "data": {
      "text/plain": [
       "tensor([0, 1, 2, 1, 3, 4, 3, 3, 4, 4, 4, 2, 5, 4, 6, 4])"
      ]
     },
     "execution_count": 76,
     "metadata": {},
     "output_type": "execute_result"
    }
   ],
   "source": [
    "cat_variables = {\n",
    "    col : torch.tensor(list(df_batch[col]))\n",
    "    for col in df_batch.columns\n",
    "}\n",
    "cat_variables['GSEGRD']"
   ]
  },
  {
   "cell_type": "code",
   "execution_count": 97,
   "metadata": {},
   "outputs": [],
   "source": [
    "res = model(cat_variables, torch.randn(16, 2))"
   ]
  },
  {
   "cell_type": "code",
   "execution_count": 99,
   "metadata": {},
   "outputs": [
    {
     "data": {
      "text/plain": [
       "tensor([[ 0.0662, -0.2724,  0.3547, -0.1773, -0.2663, -0.0088, -0.3641, -0.2393,\n",
       "          0.0982,  0.0331,  0.4205,  0.3597, -0.1974, -0.1678, -0.1116,  0.4877,\n",
       "         -0.1344, -0.0835,  0.1863, -0.1037, -0.0093,  0.4131],\n",
       "        [ 0.0316, -0.1237,  0.2853, -0.2274, -0.5413,  0.2737, -0.3677, -0.1763,\n",
       "          0.1286, -0.2150,  0.2207,  0.2178, -0.2227, -0.0266, -0.1185,  0.3335,\n",
       "         -0.2782,  0.3566,  0.2557, -0.0411,  0.0132,  0.1173],\n",
       "        [ 0.1887,  0.0067,  0.3960, -0.4267, -0.5251,  0.1694, -0.8272, -0.2433,\n",
       "         -0.0542,  0.1473,  0.3441,  0.3015, -0.5614, -0.0730, -0.0041,  0.5225,\n",
       "         -0.4058,  0.4464, -0.0782,  0.1024,  0.1975,  0.1498],\n",
       "        [ 0.1077, -0.1782,  0.2481, -0.2364, -0.5326,  0.2045, -0.4111, -0.1821,\n",
       "          0.0715, -0.1889,  0.1701,  0.1973, -0.2604,  0.0066, -0.1104,  0.2470,\n",
       "         -0.2132,  0.3306,  0.2508, -0.0088,  0.0263,  0.1688],\n",
       "        [ 0.0486, -0.1877,  0.4318, -0.1710, -0.0468,  0.4768,  0.1193, -0.0011,\n",
       "          0.2697,  0.0101, -0.0083,  0.0105,  0.0117,  0.1042, -0.2408,  0.2465,\n",
       "         -0.1053,  0.0039,  0.2165, -0.6379,  0.2015,  0.3875],\n",
       "        [-0.0407,  0.0538,  0.5345, -0.3784, -0.6315,  0.3734, -0.4671, -0.1060,\n",
       "          0.0545, -0.2481,  0.0339,  0.0240, -0.3836,  0.3546, -0.0558,  0.3994,\n",
       "         -0.3760,  0.3257,  0.0014, -0.0403,  0.0267,  0.1674],\n",
       "        [ 0.0582, -0.1025,  0.3189, -0.0688, -0.2596, -0.1228, -0.2552, -0.1598,\n",
       "         -0.2377,  0.0915,  0.2155,  0.1065, -0.1734, -0.0288,  0.1167,  0.2962,\n",
       "         -0.1140, -0.1180,  0.1032, -0.1878, -0.1321,  0.2279],\n",
       "        [ 0.1135, -0.2769,  0.1857, -0.3118, -0.3136, -0.0579, -0.6870, -0.0860,\n",
       "         -0.1987, -0.1806,  0.4534,  0.1903, -0.3439,  0.0026,  0.1968,  0.3021,\n",
       "          0.0936, -0.0291,  0.3616, -0.1729,  0.0618,  0.1954],\n",
       "        [-0.1535, -0.0160,  0.4823, -0.4367, -0.0842,  0.2787, -0.4554, -0.1034,\n",
       "          0.1886, -0.2472,  0.2488,  0.1237, -0.1114,  0.0316, -0.0560,  0.5491,\n",
       "          0.0099,  0.2052, -0.0593,  0.0983,  0.0601,  0.2544],\n",
       "        [-0.1631, -0.2279,  0.5825, -0.3886, -0.0205,  0.1874,  0.1817,  0.1500,\n",
       "         -0.1134, -0.0781,  0.0173,  0.3937, -0.2892,  0.3069, -0.3301,  0.0447,\n",
       "         -0.1476,  0.0640,  0.2136, -0.0133,  0.0541,  0.4797],\n",
       "        [-0.2376, -0.2086,  0.2605, -0.0529, -0.1118,  0.0120, -0.1818, -0.0858,\n",
       "         -0.2219,  0.0254,  0.0092,  0.3741, -0.2704, -0.0946, -0.0894,  0.0115,\n",
       "         -0.2075, -0.1882,  0.0772,  0.1096, -0.0909,  0.1870],\n",
       "        [ 0.1858, -0.1183,  0.2588, -0.0895,  0.0747,  0.2936, -0.1912, -0.2264,\n",
       "          0.0030,  0.3229,  0.1219,  0.3478, -0.2023,  0.0143, -0.2558,  0.1455,\n",
       "         -0.3820,  0.0909,  0.1315,  0.0991,  0.2172,  0.2633],\n",
       "        [-0.0735, -0.0831,  0.2168, -0.1841, -0.2169,  0.2240,  0.0015, -0.2229,\n",
       "          0.2796, -0.1181,  0.2727,  0.2281, -0.0436, -0.1372, -0.1547,  0.1846,\n",
       "          0.0489, -0.1223,  0.1894, -0.1978,  0.2835,  0.4878],\n",
       "        [-0.0607, -0.0794,  0.3269, -0.3845, -0.0738,  0.3780, -0.3165, -0.3137,\n",
       "          0.2547, -0.2010,  0.2093,  0.1868, -0.0741, -0.1541, -0.1136,  0.3923,\n",
       "         -0.0314,  0.2326,  0.1390,  0.2030,  0.0028,  0.2466],\n",
       "        [-0.1078, -0.1553,  0.3186, -0.0219, -0.1166,  0.0669, -0.2972, -0.2801,\n",
       "         -0.1212,  0.0144,  0.3191,  0.4438, -0.2848, -0.1407, -0.0277,  0.0323,\n",
       "         -0.0230, -0.0836,  0.0498, -0.0056,  0.2767,  0.1762],\n",
       "        [-0.3241,  0.0265,  0.2556, -0.0376, -0.0314,  0.1278, -0.1821, -0.0035,\n",
       "         -0.0066, -0.1665,  0.1626,  0.2812, -0.1313, -0.0771,  0.1190,  0.1460,\n",
       "         -0.1878, -0.1280, -0.0171, -0.1234, -0.0223,  0.1477]],\n",
       "       grad_fn=<AddmmBackward>)"
      ]
     },
     "execution_count": 99,
     "metadata": {},
     "output_type": "execute_result"
    }
   ],
   "source": [
    "res"
   ]
  },
  {
   "cell_type": "code",
   "execution_count": 63,
   "metadata": {},
   "outputs": [
    {
     "data": {
      "text/plain": [
       "[torch.Size([16, 10]),\n",
       " torch.Size([16, 10]),\n",
       " torch.Size([16, 10]),\n",
       " torch.Size([16, 10]),\n",
       " torch.Size([16, 10]),\n",
       " torch.Size([16, 10]),\n",
       " torch.Size([16, 10]),\n",
       " torch.Size([16, 10]),\n",
       " torch.Size([16, 10]),\n",
       " torch.Size([16, 10]),\n",
       " torch.Size([16, 10]),\n",
       " torch.Size([16, 10]),\n",
       " torch.Size([16, 10]),\n",
       " torch.Size([16, 10])]"
      ]
     },
     "execution_count": 63,
     "metadata": {},
     "output_type": "execute_result"
    }
   ],
   "source": [
    "[t.shape for t in res]"
   ]
  },
  {
   "cell_type": "code",
   "execution_count": 64,
   "metadata": {},
   "outputs": [],
   "source": [
    "t1 = res[0]"
   ]
  },
  {
   "cell_type": "code",
   "execution_count": 65,
   "metadata": {},
   "outputs": [],
   "source": [
    "t2 = res[1]"
   ]
  },
  {
   "cell_type": "code",
   "execution_count": 72,
   "metadata": {},
   "outputs": [
    {
     "data": {
      "text/plain": [
       "torch.Size([16, 20])"
      ]
     },
     "execution_count": 72,
     "metadata": {},
     "output_type": "execute_result"
    }
   ],
   "source": [
    "torch.cat([t1, t2], dim = 1).shape"
   ]
  },
  {
   "cell_type": "code",
   "execution_count": null,
   "metadata": {},
   "outputs": [],
   "source": []
  }
 ],
 "metadata": {
  "kernelspec": {
   "display_name": "Python 3",
   "language": "python",
   "name": "python3"
  },
  "language_info": {
   "codemirror_mode": {
    "name": "ipython",
    "version": 3
   },
   "file_extension": ".py",
   "mimetype": "text/x-python",
   "name": "python",
   "nbconvert_exporter": "python",
   "pygments_lexer": "ipython3",
   "version": "3.7.2"
  }
 },
 "nbformat": 4,
 "nbformat_minor": 2
}
