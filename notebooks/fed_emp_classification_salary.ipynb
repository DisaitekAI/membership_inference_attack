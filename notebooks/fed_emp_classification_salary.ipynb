{
 "cells": [
  {
   "cell_type": "code",
   "execution_count": 1,
   "metadata": {},
   "outputs": [
    {
     "data": {
      "text/plain": [
       "<torch._C.Generator at 0x7f218c3430b0>"
      ]
     },
     "execution_count": 1,
     "metadata": {},
     "output_type": "execute_result"
    }
   ],
   "source": [
    "%matplotlib inline\n",
    "import matplotlib.pyplot as plt\n",
    "from pathlib import Path\n",
    "import numpy as np\n",
    "import pandas as pd\n",
    "\n",
    "from tqdm import tqdm\n",
    "\n",
    "import torch\n",
    "import torch.nn as nn\n",
    "import torch.nn.functional as F\n",
    "import torch.optim as optim\n",
    "from torch.utils.data import TensorDataset, DataLoader, random_split\n",
    "\n",
    "torch.manual_seed(0)"
   ]
  },
  {
   "cell_type": "code",
   "execution_count": 35,
   "metadata": {},
   "outputs": [],
   "source": [
    "col_desc = {\n",
    "    'AGYSUB': 'Agency',\n",
    "    'LOC': 'Location',\n",
    "    'AGELVL': 'Age (bucket)',\n",
    "    'EDLVL': 'Education level',\n",
    "    'GSEGRD': 'General schedule & Equivalent grade',\n",
    "    'LOSLVL': 'Length of service (bucket)',\n",
    "    'OCC': 'Occupation',\n",
    "    'PATCO': 'Occupation category',\n",
    "    'PPGRD': 'Pay Plan & Grade',\n",
    "    'STEMOCC': 'STEM Occupation',\n",
    "    'SUPERVIS': 'Supervisory status',\n",
    "    'TOA': 'Type of appointment',\n",
    "    'WORKSCH': 'Work schedule',\n",
    "    'WORKSTAT': 'Work status',\n",
    "    'LOS': 'Average length of service',\n",
    "}"
   ]
  },
  {
   "cell_type": "code",
   "execution_count": 2,
   "metadata": {},
   "outputs": [],
   "source": [
    "data_path    = Path('../data/')\n",
    "model_folder = Path('../models/')\n",
    "model_path   = model_folder / 'edlvl_clf_salary_bucket.pt'\n",
    "df           = pd.read_csv(data_path / 'interim' / 'fed_emp.csv')\n",
    "emb_dim      = 10"
   ]
  },
  {
   "cell_type": "code",
   "execution_count": 3,
   "metadata": {},
   "outputs": [],
   "source": [
    "# Removing the nan values in columns by either adding a new category\n",
    "# or dropping the lines\n",
    "df                                   = df[~df.EDLVL.isnull()]\n",
    "df.loc[df.GSEGRD.isnull(), 'GSEGRD'] = 0\n",
    "df.loc[df.OCC.isnull(), 'OCC']       = 0\n",
    "df                                   = df[~df.SUPERVIS.isnull()]\n",
    "df                                   = df[~df.TOA.isnull()]\n",
    "df                                   = df[~df.SALARY.isnull()]\n",
    "df                                   = df[~df.LOS.isnull()]\n",
    "# Target generation, we partition the salary values in 10 equally sized\n",
    "# buckets.\n",
    "df['SALBUCKET']                      = pd.qcut(df.SALARY, np.arange(0, 1.1, .1))\n",
    "# df.isnull().sum(axis = 0)"
   ]
  },
  {
   "cell_type": "code",
   "execution_count": 4,
   "metadata": {},
   "outputs": [],
   "source": [
    "df = df.sample(30000)"
   ]
  },
  {
   "cell_type": "code",
   "execution_count": 5,
   "metadata": {},
   "outputs": [],
   "source": [
    "df_data    = df.drop(['SALBUCKET', 'SALARY', 'SALLVL'], axis = 1)\n",
    "df_target  = df['SALBUCKET']"
   ]
  },
  {
   "cell_type": "code",
   "execution_count": 6,
   "metadata": {},
   "outputs": [],
   "source": [
    "numerical_columns = ['LOS']\n",
    "df_num            = df_data[numerical_columns]\n",
    "num_val_mean      = df_num.mean(axis = 0)\n",
    "num_val_std       = df_num.std(axis = 0)\n",
    "df_num            = (df_num - num_val_mean) / num_val_std\n",
    "df_cat            = df_data.drop(numerical_columns, axis = 1) "
   ]
  },
  {
   "cell_type": "code",
   "execution_count": 7,
   "metadata": {},
   "outputs": [],
   "source": [
    "columns_encoders = {\n",
    "    col : {\n",
    "        val : i \n",
    "        for i, val in enumerate(df[col].unique())\n",
    "    }\n",
    "    for col in df_cat.columns\n",
    "}\n",
    "target_encoder = {\n",
    "    val : i \n",
    "    for i, val in enumerate(sorted(df_target.unique()))\n",
    "}\n",
    "column_order = sorted(columns_encoders.keys())"
   ]
  },
  {
   "cell_type": "code",
   "execution_count": 8,
   "metadata": {},
   "outputs": [],
   "source": [
    "for col in df_cat.columns:\n",
    "    df_cat[col] = df_cat[col].apply(lambda x: columns_encoders[col][x])\n",
    "df_target = df_target.map(lambda x: target_encoder[x])"
   ]
  },
  {
   "cell_type": "code",
   "execution_count": 9,
   "metadata": {},
   "outputs": [],
   "source": [
    "class CategoricalEmbeddings(nn.Module):\n",
    "    def __init__(self, col_order, col_encoders, col_to_emb_dim):\n",
    "        super(CategoricalEmbeddings, self).__init__()\n",
    "        self.col_order = col_order \n",
    "        self.cat_embs  = nn.ModuleDict({\n",
    "            col: nn.Embedding(len(col_encoders[col]), col_to_emb_dim[col])\n",
    "            for col in col_order\n",
    "        })\n",
    "        \n",
    "    def forward(self, cat_variables):\n",
    "        embeddings = [self.cat_embs[col](cat_variables[col]) for col in self.col_order]\n",
    "        \n",
    "        return torch.cat(embeddings, dim = 1)"
   ]
  },
  {
   "cell_type": "code",
   "execution_count": 10,
   "metadata": {},
   "outputs": [],
   "source": [
    "class EdlvlClassifier(nn.Module):\n",
    "    def __init__(self, col_order, col_encoders, col_to_emb_dim, class_number, num_var_number, \n",
    "                 lin_size = 256, dropout_rate = 0.):\n",
    "        super(EdlvlClassifier, self).__init__()\n",
    "        self.cat_emb    = CategoricalEmbeddings(col_order, col_encoders, col_to_emb_dim)\n",
    "        sum_cat_emb_dim = sum(col_to_emb_dim.values())\n",
    "        self.linear1    = nn.Linear(sum_cat_emb_dim + num_var_number, lin_size)\n",
    "        self.linear2    = nn.Linear(lin_size, class_number)\n",
    "        self.dropout    = nn.Dropout(dropout_rate)\n",
    "        \n",
    "    def forward(self, cat_variables, num_variables):\n",
    "        cat_embeddings = self.cat_emb(cat_variables)\n",
    "        cat_num_tensor = torch.cat([cat_embeddings, num_variables], dim = 1)\n",
    "        cat_num_tensor = self.dropout(cat_num_tensor)\n",
    "        out_linear1    = F.relu(self.dropout(self.linear1(cat_num_tensor)))\n",
    "        out_linear2    = self.linear2(out_linear1)\n",
    "        \n",
    "        return out_linear2"
   ]
  },
  {
   "cell_type": "code",
   "execution_count": 11,
   "metadata": {},
   "outputs": [
    {
     "data": {
      "text/plain": [
       "EdlvlClassifier(\n",
       "  (cat_emb): CategoricalEmbeddings(\n",
       "    (cat_embs): ModuleDict(\n",
       "      (AGELVL): Embedding(11, 10)\n",
       "      (AGYSUB): Embedding(419, 10)\n",
       "      (EDLVL): Embedding(22, 10)\n",
       "      (GSEGRD): Embedding(16, 10)\n",
       "      (LOC): Embedding(106, 10)\n",
       "      (LOSLVL): Embedding(10, 10)\n",
       "      (OCC): Embedding(544, 10)\n",
       "      (PATCO): Embedding(7, 10)\n",
       "      (PPGRD): Embedding(544, 10)\n",
       "      (STEMOCC): Embedding(94, 10)\n",
       "      (SUPERVIS): Embedding(6, 10)\n",
       "      (TOA): Embedding(18, 10)\n",
       "      (WORKSCH): Embedding(8, 10)\n",
       "      (WORKSTAT): Embedding(2, 10)\n",
       "    )\n",
       "  )\n",
       "  (linear1): Linear(in_features=141, out_features=256, bias=True)\n",
       "  (linear2): Linear(in_features=256, out_features=10, bias=True)\n",
       "  (dropout): Dropout(p=0.0)\n",
       ")"
      ]
     },
     "execution_count": 11,
     "metadata": {},
     "output_type": "execute_result"
    }
   ],
   "source": [
    "model = EdlvlClassifier(\n",
    "    column_order,\n",
    "    columns_encoders,\n",
    "    {\n",
    "        col : emb_dim\n",
    "        for col in columns_encoders\n",
    "    },\n",
    "    len(target_encoder),\n",
    "    num_var_number = df_num.shape[1]\n",
    ")\n",
    "model"
   ]
  },
  {
   "cell_type": "code",
   "execution_count": 12,
   "metadata": {},
   "outputs": [],
   "source": [
    "dataset = TensorDataset(\n",
    "    *[\n",
    "        torch.tensor(df_cat[col].values)\n",
    "        for col in column_order\n",
    "    ], # categorical variables in the correct order\n",
    "    torch.tensor(df_num.values, dtype = torch.float32), # numerical variables\n",
    "    torch.tensor(df_target.values, dtype = torch.int64) # target variables\n",
    ")"
   ]
  },
  {
   "cell_type": "code",
   "execution_count": 13,
   "metadata": {},
   "outputs": [],
   "source": [
    "dataset_size                 = len(dataset)\n",
    "valid_prop                   = 0.2\n",
    "valid_size                   = round(valid_prop * dataset_size)\n",
    "lengths                      = [dataset_size - valid_size, valid_size]\n",
    "train_dataset, valid_dataset = random_split(dataset, lengths)"
   ]
  },
  {
   "cell_type": "code",
   "execution_count": 14,
   "metadata": {},
   "outputs": [],
   "source": [
    "train        = True\n",
    "device       = torch.device('cuda')\n",
    "model        = model.to(device)\n",
    "epochs       = 50\n",
    "batch_size   = 2048\n",
    "optimizer    = optim.Adam(model.parameters())\n",
    "criterion    = nn.CrossEntropyLoss()\n",
    "train_loader = DataLoader(train_dataset, batch_size = batch_size, shuffle = True)\n",
    "valid_loader = DataLoader(valid_dataset, batch_size = batch_size, shuffle = False)"
   ]
  },
  {
   "cell_type": "code",
   "execution_count": 15,
   "metadata": {},
   "outputs": [
    {
     "name": "stdout",
     "output_type": "stream",
     "text": [
      "[0:0] 2.3556458950042725\n",
      "2484 6000\n",
      "[0:11] [T] 28.16%, [V] 41.40%  1.92\n",
      "[1:0] 1.8851956129074097\n",
      "2702 6000\n",
      "[1:11] [T] 43.13%, [V] 45.03%  1.52\n",
      "[2:0] 1.488377571105957\n",
      "2794 6000\n",
      "[2:11] [T] 45.99%, [V] 46.57%  1.31\n",
      "[3:0] 1.3482788801193237\n",
      "2930 6000\n",
      "[3:11] [T] 47.76%, [V] 48.83%  1.26\n",
      "[4:0] 1.2421553134918213\n",
      "2978 6000\n",
      "[4:11] [T] 50.45%, [V] 49.63%  1.19\n",
      "[5:0] 1.2118233442306519\n",
      "3046 6000\n",
      "[5:11] [T] 51.99%, [V] 50.77%  1.20\n",
      "[6:0] 1.1856889724731445\n",
      "3094 6000\n",
      "[6:11] [T] 52.90%, [V] 51.57%  1.16\n",
      "[7:0] 1.1284633874893188\n",
      "3157 6000\n",
      "[7:11] [T] 54.40%, [V] 52.62%  1.07\n",
      "[8:0] 1.0662353038787842\n",
      "3212 6000\n",
      "[8:11] [T] 55.24%, [V] 53.53%  1.09\n",
      "[9:0] 1.1077712774276733\n",
      "3228 6000\n",
      "[9:11] [T] 56.14%, [V] 53.80%  1.07\n",
      "[10:0] 1.0762945413589478\n",
      "3249 6000\n",
      "[10:11] [T] 57.20%, [V] 54.15%  1.06\n",
      "[11:0] 1.0487762689590454\n",
      "3282 6000\n",
      "[11:11] [T] 57.87%, [V] 54.70%  1.05\n",
      "[12:0] 1.0371980667114258\n",
      "3324 6000\n",
      "[12:11] [T] 58.55%, [V] 55.40%  1.07\n",
      "[13:0] 1.0269312858581543\n",
      "3375 6000\n",
      "[13:11] [T] 59.06%, [V] 56.25%  1.03\n",
      "[14:0] 0.9771444797515869\n",
      "3390 6000\n",
      "[14:11] [T] 59.83%, [V] 56.50%  0.97\n",
      "[15:0] 1.013611078262329\n",
      "3425 6000\n",
      "[15:11] [T] 60.47%, [V] 57.08%  0.98\n",
      "[16:0] 0.9755536317825317\n",
      "3416 6000\n",
      "[16:11] [T] 60.94%, [V] 56.93%  0.94\n",
      "[17:0] 0.9292502403259277\n",
      "3449 6000\n",
      "[17:11] [T] 61.15%, [V] 57.48%  0.95\n",
      "[18:0] 0.9458863139152527\n",
      "3475 6000\n",
      "[18:11] [T] 61.62%, [V] 57.92%  0.96\n",
      "[19:0] 0.917104184627533\n",
      "3485 6000\n",
      "[19:11] [T] 62.35%, [V] 58.08%  0.94\n",
      "[20:0] 0.920471727848053\n",
      "3493 6000\n",
      "[20:11] [T] 62.62%, [V] 58.22%  0.88\n",
      "[21:0] 0.9254893660545349\n",
      "3503 6000\n",
      "[21:11] [T] 62.95%, [V] 58.38%  0.93\n",
      "[22:0] 0.9061661958694458\n",
      "3520 6000\n",
      "[22:11] [T] 63.60%, [V] 58.67%  0.88\n",
      "[23:0] 0.9256693720817566\n",
      "3542 6000\n",
      "[23:11] [T] 64.16%, [V] 59.03%  0.88\n",
      "[24:0] 0.8992000818252563\n",
      "3532 6000\n",
      "[24:11] [T] 64.41%, [V] 58.87%  0.91\n",
      "[25:0] 0.8609193563461304\n",
      "3553 6000\n",
      "[25:11] [T] 64.83%, [V] 59.22%  0.87\n",
      "[26:0] 0.8457326292991638\n",
      "3571 6000\n",
      "[26:11] [T] 65.17%, [V] 59.52%  0.88\n",
      "[27:0] 0.8491525650024414\n",
      "3568 6000\n",
      "[27:11] [T] 65.26%, [V] 59.47%  0.84\n",
      "[28:0] 0.8559029698371887\n",
      "3571 6000\n",
      "[28:11] [T] 65.77%, [V] 59.52%  0.83\n",
      "[29:0] 0.8282982707023621\n",
      "3584 6000\n",
      "[29:11] [T] 66.11%, [V] 59.73%  0.84\n",
      "[30:0] 0.8216701745986938\n",
      "3573 6000\n",
      "[30:11] [T] 66.34%, [V] 59.55%  0.86\n",
      "[31:0] 0.8255614042282104\n",
      "3580 6000\n",
      "[31:11] [T] 66.49%, [V] 59.67%  0.80\n",
      "[32:0] 0.8534291982650757\n",
      "3604 6000\n",
      "[32:11] [T] 66.89%, [V] 60.07%  0.80\n",
      "[33:0] 0.8062264919281006\n",
      "3593 6000\n",
      "[33:11] [T] 67.12%, [V] 59.88%  0.82\n",
      "[34:0] 0.7929680347442627\n",
      "3599 6000\n",
      "[34:11] [T] 67.58%, [V] 59.98%  0.82\n",
      "[35:0] 0.8195136785507202\n",
      "3632 6000\n",
      "[35:11] [T] 67.57%, [V] 60.53%  0.84\n",
      "[36:0] 0.810667097568512\n",
      "3624 6000\n",
      "[36:11] [T] 68.14%, [V] 60.40%  0.79\n",
      "[37:0] 0.7607564926147461\n",
      "3647 6000\n",
      "[37:11] [T] 68.51%, [V] 60.78%  0.77\n",
      "[38:0] 0.7589114308357239\n",
      "3625 6000\n",
      "[38:11] [T] 68.73%, [V] 60.42%  0.80\n",
      "[39:0] 0.7669273614883423\n",
      "3644 6000\n",
      "[39:11] [T] 68.55%, [V] 60.73%  0.76\n",
      "[40:0] 0.7738634943962097\n",
      "3650 6000\n",
      "[40:11] [T] 68.86%, [V] 60.83%  0.76\n",
      "[41:0] 0.7507014274597168\n",
      "3664 6000\n",
      "[41:11] [T] 69.39%, [V] 61.07%  0.73\n",
      "[42:0] 0.7513827681541443\n",
      "3665 6000\n",
      "[42:11] [T] 69.63%, [V] 61.08%  0.74\n",
      "[43:0] 0.7427937984466553\n",
      "3665 6000\n",
      "[43:11] [T] 69.80%, [V] 61.08%  0.76\n",
      "[44:0] 0.7591680884361267\n",
      "3657 6000\n",
      "[44:11] [T] 70.18%, [V] 60.95%  0.73\n",
      "[45:0] 0.7247534990310669\n",
      "3660 6000\n",
      "[45:11] [T] 70.25%, [V] 61.00%  0.77\n",
      "[46:0] 0.7401537299156189\n",
      "3658 6000\n",
      "[46:11] [T] 70.42%, [V] 60.97%  0.75\n",
      "[47:0] 0.7146828770637512\n",
      "3650 6000\n",
      "[47:11] [T] 70.76%, [V] 60.83%  0.72\n",
      "[48:0] 0.7458273768424988\n",
      "3647 6000\n",
      "[48:11] [T] 71.12%, [V] 60.78%  0.73\n",
      "[49:0] 0.7109670639038086\n",
      "3646 6000\n",
      "[49:11] [T] 71.25%, [V] 60.77%  0.71\n"
     ]
    }
   ],
   "source": [
    "if train:\n",
    "    for epoch in range(epochs):\n",
    "        correct = 0\n",
    "        total   = 0\n",
    "        for i, (*cat_var_list, num_var, y) in enumerate(train_loader):\n",
    "            optimizer.zero_grad()\n",
    "            cat_var_list   = [t.to(device) for t in cat_var_list]\n",
    "            num_var        = num_var.to(device)\n",
    "            y              = y.to(device)\n",
    "            cat_variables  = dict(zip(column_order, cat_var_list))\n",
    "            res            = model(cat_variables, num_var)\n",
    "            loss           = criterion(res, y)\n",
    "            correct       += (res.argmax(dim = 1) == y).detach().sum().item()\n",
    "            total         += y.shape[0]\n",
    "            loss.backward()\n",
    "            optimizer.step()\n",
    "            if i % 50 == 0:\n",
    "                print(f'[{epoch}:{i}] {loss.item()}')\n",
    "        model.eval()\n",
    "        valid_correct = 0\n",
    "        valid_total   = 0\n",
    "        with torch.no_grad():\n",
    "            for *cat_var_list, num_var, y in valid_loader:\n",
    "                cat_var_list   = [t.to(device) for t in cat_var_list]\n",
    "                num_var        = num_var.to(device)\n",
    "                y              = y.to(device)\n",
    "                cat_variables  = dict(zip(column_order, cat_var_list))\n",
    "                res            = model(cat_variables, num_var)\n",
    "                valid_correct += (res.argmax(dim = 1) == y).detach().sum().item()\n",
    "                valid_total   += y.shape[0]\n",
    "        print(valid_correct, valid_total)\n",
    "        print(f'[{epoch}:{i}] [T] {100. * correct / total:5.2f}%, [V] {100. * valid_correct / valid_total:5.2f}% {loss.item():5.2f}')\n",
    "        model.train()\n",
    "\n",
    "    torch.save(model.state_dict(), model_path)"
   ]
  },
  {
   "cell_type": "code",
   "execution_count": 16,
   "metadata": {},
   "outputs": [
    {
     "name": "stdout",
     "output_type": "stream",
     "text": [
      "0.6076666666666667\n"
     ]
    }
   ],
   "source": [
    "model = EdlvlClassifier(\n",
    "    column_order,\n",
    "    columns_encoders,\n",
    "    {\n",
    "        col : emb_dim\n",
    "        for col in columns_encoders\n",
    "    },\n",
    "    len(target_encoder),\n",
    "    num_var_number = df_num.shape[1]\n",
    "\n",
    ").to(device)\n",
    "model.load_state_dict(torch.load(model_path))\n",
    "model.eval()\n",
    "valid_correct = 0\n",
    "valid_total   = 0\n",
    "with torch.no_grad():\n",
    "    for *cat_var_list, num_var, y in valid_loader:\n",
    "        cat_var_list   = [t.to(device) for t in cat_var_list]\n",
    "        num_var        = num_var.to(device)\n",
    "        y              = y.to(device)\n",
    "        cat_variables  = dict(zip(column_order, cat_var_list))\n",
    "        res            = model(cat_variables, num_var)\n",
    "        valid_correct += (res.argmax(dim = 1) == y).detach().sum().item()\n",
    "        valid_total   += y.shape[0]\n",
    "print(valid_correct / valid_total)"
   ]
  },
  {
   "cell_type": "code",
   "execution_count": 17,
   "metadata": {},
   "outputs": [],
   "source": [
    "# sample_idx = 20"
   ]
  },
  {
   "cell_type": "code",
   "execution_count": 18,
   "metadata": {},
   "outputs": [],
   "source": [
    "# *cat_var_list, num_var, y = train_dataset[sample_idx]\n",
    "# cat_var_list   = [t.to(device) for t in cat_var_list]\n",
    "# num_var        = num_var.to(device)\n",
    "# y              = y.to(device)\n",
    "# cat_variables  = dict(zip(column_order, [t.unsqueeze(0) for t in cat_var_list]))\n",
    "# res            = model(cat_variables, num_var.unsqueeze(0))\n",
    "# print(res.argmax(dim = 1).item(), y.item())"
   ]
  },
  {
   "cell_type": "code",
   "execution_count": 19,
   "metadata": {},
   "outputs": [],
   "source": [
    "# def plot(index, res, x_label, correct_index = None):\n",
    "#     fig, ax = plt.subplots(figsize = (15, 10))\n",
    "#     bar_width = .70\n",
    "#     if correct_index is None:\n",
    "#         ax.bar(index, res, bar_width)\n",
    "#     else:\n",
    "#         barlist = ax.bar(index, res, bar_width)\n",
    "#         barlist[correct_index].set_color('r')\n",
    "#     ax.set_xticks(index)\n",
    "#     ax.set_xticklabels(index)\n",
    "#     ax.set_title(f'Prediction confidence by {x_label} on a specific sample')\n",
    "#     ax.set_xlabel(x_label)\n",
    "#     ax.set_ylabel('Confidence')\n",
    "    \n",
    "# plot(np.arange(len(res[0])), torch.softmax(res, dim = 1).detach().cpu().numpy()[0], 'pred_class', y.item())"
   ]
  },
  {
   "cell_type": "code",
   "execution_count": 20,
   "metadata": {},
   "outputs": [],
   "source": [
    "# *cat_var_list, num_var, y = train_dataset[sample_idx]\n",
    "# cat_var_list   = [t.to(device) for t in cat_var_list]\n",
    "# num_var        = num_var.to(device)\n",
    "# y              = y.to(device)\n",
    "# cat_variables  = dict(zip(column_order, [t.unsqueeze(0) for t in cat_var_list]))\n",
    "# res            = model(cat_variables, num_var.unsqueeze(0))\n",
    "# print(y.item(), res.argmax(dim = 1).item())\n",
    "# print(cat_variables)"
   ]
  },
  {
   "cell_type": "code",
   "execution_count": 21,
   "metadata": {},
   "outputs": [],
   "source": [
    "# *cat_var_list, num_var, y = train_dataset[sample_idx]\n",
    "# cat_var_list   = [t.to(device) for t in cat_var_list]\n",
    "# num_var        = num_var.to(device)\n",
    "# y              = y.to(device)\n",
    "# cat_variables  = dict(zip(column_order, [t.unsqueeze(0) for t in cat_var_list]))\n",
    "# orig_age_lvl   = cat_variables['AGELVL'].item()\n",
    "# confidences = []\n",
    "# age_lvls = list(range(12))\n",
    "# for age_lvl in age_lvls:\n",
    "#     cat_variables['AGELVL'][0] = age_lvl\n",
    "#     res = model(cat_variables, num_var.unsqueeze(0))\n",
    "#     res = torch.softmax(res, dim = 1)\n",
    "#     confidences.append(res[0, y].item())\n",
    "\n",
    "# plot(age_lvls, confidences, 'AGELVL', orig_age_lvl)"
   ]
  },
  {
   "cell_type": "code",
   "execution_count": 36,
   "metadata": {},
   "outputs": [],
   "source": [
    "def plot_both_figures(sample_idx, col, bar_width = 0.7, figsize = (25, 12)):\n",
    "    *cat_var_list, num_var, y = train_dataset[sample_idx]\n",
    "    cat_var_list              = [t.to(device) for t in cat_var_list]\n",
    "    num_var                   = num_var.to(device)\n",
    "    y                         = y.to(device)\n",
    "    cat_variables             = dict(zip(column_order, [t.unsqueeze(0) for t in cat_var_list]))\n",
    "    pred                      = model(cat_variables, num_var.unsqueeze(0))\n",
    "    print(f'target: {y.item()}, model pred: {pred.argmax(dim = 1).item()}')\n",
    "    orig_col_value            = cat_variables[col].item()\n",
    "    confidences               = []\n",
    "    col_values                = list(range(len(df[col].unique())))\n",
    "    print(cat_variables)\n",
    "    for col_val in col_values:\n",
    "        cat_variables[col][0] = col_val\n",
    "        res = model(cat_variables, num_var.unsqueeze(0))\n",
    "        res = torch.softmax(res, dim = 1)\n",
    "        confidences.append(res[0, y].item())\n",
    "    \n",
    "    fig, ax = plt.subplots(\n",
    "        nrows = 1, \n",
    "        ncols = 2, \n",
    "        figsize = figsize\n",
    "    )\n",
    "    class_index = list(range(len(df_target.unique())))\n",
    "    ax[0].set_xticks(class_index)\n",
    "    ax[0].set_xticklabels(class_index)\n",
    "    barlist = ax[0].bar(class_index, torch.softmax(pred, dim = 1).detach().cpu().numpy()[0], bar_width)\n",
    "    barlist[y.item()].set_color('r')\n",
    "    ax[0].set_title(f'Model prediction confidence by class')\n",
    "    ax[0].set_xlabel('Class')\n",
    "    ax[0].set_ylabel('Confidence')\n",
    "    \n",
    "    ax[1].set_xticks(col_values)\n",
    "    ax[1].set_xticklabels(col_values)\n",
    "    barlist = ax[1].bar(col_values, confidences, bar_width)\n",
    "    barlist[orig_col_value].set_color('r')\n",
    "    ax[1].set_title(f'Model prediction confidence while varying a column')\n",
    "    ax[1].set_xlabel(col_desc[col])\n",
    "    ax[1].set_ylabel('Confidence')"
   ]
  },
  {
   "cell_type": "code",
   "execution_count": 37,
   "metadata": {},
   "outputs": [
    {
     "name": "stdout",
     "output_type": "stream",
     "text": [
      "target: 8, model pred: 8\n",
      "{'AGELVL': tensor([1], device='cuda:0'), 'AGYSUB': tensor([9], device='cuda:0'), 'EDLVL': tensor([5], device='cuda:0'), 'GSEGRD': tensor([7], device='cuda:0'), 'LOC': tensor([10], device='cuda:0'), 'LOSLVL': tensor([2], device='cuda:0'), 'OCC': tensor([112], device='cuda:0'), 'PATCO': tensor([0], device='cuda:0'), 'PPGRD': tensor([14], device='cuda:0'), 'STEMOCC': tensor([22], device='cuda:0'), 'SUPERVIS': tensor([0], device='cuda:0'), 'TOA': tensor([5], device='cuda:0'), 'WORKSCH': tensor([0], device='cuda:0'), 'WORKSTAT': tensor([0], device='cuda:0')}\n"
     ]
    },
    {
     "data": {
      "image/png": "[encoded data removed]",
      "text/plain": [
       "<Figure size 1800x864 with 2 Axes>"
      ]
     },
     "metadata": {
      "needs_background": "light"
     },
     "output_type": "display_data"
    }
   ],
   "source": [
    "plot_both_figures(65, 'TOA')"
   ]
  }
 ],
 "metadata": {
  "kernelspec": {
   "display_name": "Python 3",
   "language": "python",
   "name": "python3"
  },
  "language_info": {
   "codemirror_mode": {
    "name": "ipython",
    "version": 3
   },
   "file_extension": ".py",
   "mimetype": "text/x-python",
   "name": "python",
   "nbconvert_exporter": "python",
   "pygments_lexer": "ipython3",
   "version": "3.7.2"
  }
 },
 "nbformat": 4,
 "nbformat_minor": 2
}
