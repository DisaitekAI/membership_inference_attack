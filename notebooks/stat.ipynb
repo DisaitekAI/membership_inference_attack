{
 "cells": [
  {
   "cell_type": "code",
   "execution_count": 1,
   "metadata": {},
   "outputs": [],
   "source": [
    "from sklearn.metrics import confusion_matrix, classification_report, balanced_accuracy_score, \\\n",
    "roc_auc_score, classification_report, roc_curve\n",
    "import matplotlib.pyplot as plt\n",
    "from matplotlib import ticker\n",
    "import numpy as np\n",
    "\n",
    "class Statistics:\n",
    "    def __init__(self):\n",
    "        self.y_pred = []\n",
    "        self.y_true = []\n",
    "        self.balanced_accuracy = dict()\n",
    "        self.list_experiment = []\n",
    "\n",
    "        self.current_experiment_name = \"\"\n",
    "        self.list_experiment = []\n",
    "        self.param = dict()\n",
    "        self.confusion_matrix = [[0,0],[0,0]]\n",
    "        self.roc_area = dict()\n",
    "        self.report = \"\"\n",
    "        self.batch_count = dict()\n",
    "        self.epoch_count = dict()\n",
    "\n",
    "\n",
    "    \n",
    "    ############# Entrées #############\n",
    "    \n",
    "    def new_experiment(self, name, parameters):\n",
    "        self.current_experiment_name = \"{} \".format(len(self.list_experiment)) + name\n",
    "        self.list_experiment.append(self.current_experiment_name)\n",
    "        self.param[self.current_experiment_name] = parameters\n",
    "\n",
    "        self.balanced_accuracy[self.current_experiment_name] = []\n",
    "        self.roc_area[self.current_experiment_name] = []\n",
    "        self.batch_count[self.current_experiment_name] = 0\n",
    "        self.epoch_count[self.current_experiment_name] = 0\n",
    "        self.y_pred = []\n",
    "        self.y_true = []\n",
    "\n",
    "    \n",
    "    def new_epoch(self):\n",
    "        self.epoch_count[self.current_experiment_name] += 1\n",
    "        \n",
    "    def add_batch_results(self, batch_pred, batch_true):\n",
    "        if self.epoch_count[self.current_experiment_name] == 1:\n",
    "            self.batch_count[self.current_experiment_name] += 1\n",
    "        self.y_pred.extend(batch_pred)\n",
    "        self.y_true.extend(batch_true)\n",
    "        new_accuracy = balanced_accuracy_score(self.y_pred, self.y_true)\n",
    "        self.balanced_accuracy[self.current_experiment_name].append(new_accuracy)\n",
    "        self.roc_area[self.current_experiment_name].append(roc_auc_score(self.y_pred, self.y_true))\n",
    "\n",
    "    def end_epoch(self):\n",
    "        self.confusion_matrix = confusion_matrix(self.y_pred, self.y_true)\n",
    "        self.report = classification_report(self.y_pred, self.y_true)\n",
    "        self.y_pred = []\n",
    "        self.y_true = []\n",
    "        self.iteration = 0\n",
    "\n",
    "    ############# Sorties #############\n",
    "\n",
    "    \n",
    "    def save(self, file_path): # à appeler à la toute fin\n",
    "        return\n",
    "    \n",
    "    def print_results(self): # à appeler à chaque fin d'epoch\n",
    "        self.end_epoch()\n",
    "        print(\"Balanced accuracy score: {}\".format(self.balanced_accuracy[self.current_experiment_name][-1]))\n",
    "        print(\"Confusion matrix:\\n {}\".format(self.confusion_matrix))\n",
    "        print(\"Curve ROC area: {}\".format(self.roc_area))\n",
    "        print(self.report)\n",
    "    \n",
    "    \n",
    "    def plot(self):\n",
    "        print(self.batch_count)\n",
    "        print(self.epoch_count)\n",
    "        fig, ax1 = plt.subplots(1,1,figsize=(5,3),dpi=100)\n",
    "        ax1.plot(self.balanced_accuracy[self.current_experiment_name], )\n",
    "        #ax1.set_xlim((self.balanced_accuracy[self.current_experiment_name][0],self.balanced_accuracy[self.current_experiment_name][-1]))\n",
    "        print(self.balanced_accuracy[self.current_experiment_name])\n",
    "        xticklabs = [\"{}\".format(i) for i in range(self.epoch_count[self.current_experiment_name] * self.batch_count[self.current_experiment_name])]\n",
    "        for i in range(self.epoch_count[self.current_experiment_name]):\n",
    "            xticklabs[i * self.batch_count[self.current_experiment_name] - 1] = \"Epoch {}\".format(i) #r'$\\textcolor{{red}}{{Epoch {}}}$'\n",
    "        xticklabs[-1] = \"Epoch {}\".format(self.epoch_count[self.current_experiment_name])\n",
    "        ax1.set_xticklabels(xticklabs)\n",
    "        print(xticklabs)\n",
    "        ax1.xaxis.set_minor_locator(MultipleLocator)\n",
    "        #for i in range(self.epoch_count):\n",
    "             #, data=(np.array([j for j in range(3)]),np.array([j for j in range(3)])\n",
    "            #plt.title('Epoch {}'.format(self.iteration))\n",
    "            #plt.axvline(x=i*self.epoch_count,color='red')\n",
    "        #plt.show()\n",
    "        fig.tight_layout()\n",
    "        return\n",
    "    \n",
    "# ~ https://scikit-learn.org/stable/modules/generated/sklearn.metrics.confusion_matrix.html\n",
    "# ~ https://scikit-learn.org/stable/modules/generated/sklearn.metrics.accuracy_score.html\n",
    "# ~ https://scikit-learn.org/stable/modules/generated/sklearn.metrics.auc.html\n",
    "# ~ https://scikit-learn.org/stable/modules/generated/sklearn.metrics.classification_report.html\n",
    "# ~ https://scikit-learn.org/stable/modules/generated/sklearn.metrics.balanced_accuracy_score.html\n",
    "\n",
    "# ~ Plusieurs experiences\n",
    "  # ~ pour chaque experience\n",
    "    # ~ plusieurs fonction de test (une par epoch d'entrainement)\n",
    "      # ~ pour chaque test tu as plusieurs résultats de batch\n",
    "        # ~ toi tu reçois les résultats d'un batch "
   ]
  },
  {
   "cell_type": "code",
   "execution_count": 2,
   "metadata": {},
   "outputs": [
    {
     "name": "stdout",
     "output_type": "stream",
     "text": [
      "Balanced accuracy score: 0.775\n",
      "Confusion matrix:\n",
      " [[40 10]\n",
      " [10 30]]\n",
      "Curve ROC area: {'0 loremipsum': [0.875, 0.875, 0.875, 0.875, 0.875, 0.875, 0.875, 0.875, 0.875, 0.875, 0.875, 0.875, 0.875, 0.875, 0.875], '1 alive': [0.7750000000000001, 0.7750000000000001, 0.7750000000000001, 0.7750000000000001, 0.7750000000000001, 0.7750000000000001, 0.7750000000000001, 0.7750000000000001, 0.7750000000000001, 0.7750000000000001]}\n",
      "              precision    recall  f1-score   support\n",
      "\n",
      "           0       0.80      0.80      0.80        50\n",
      "           1       0.75      0.75      0.75        40\n",
      "\n",
      "   micro avg       0.78      0.78      0.78        90\n",
      "   macro avg       0.78      0.78      0.78        90\n",
      "weighted avg       0.78      0.78      0.78        90\n",
      "\n",
      "{'0 loremipsum': 5, '1 alive': 10}\n",
      "{'0 loremipsum': 3, '1 alive': 1}\n",
      "[0.775, 0.775, 0.775, 0.775, 0.775, 0.775, 0.775, 0.775, 0.775, 0.775]\n",
      "['0', '1', '2', '3', '4', '5', '6', '7', '8', 'Epoch 1']\n"
     ]
    },
    {
     "ename": "NameError",
     "evalue": "name 'MultipleLocator' is not defined",
     "output_type": "error",
     "traceback": [
      "\u001b[0;31m---------------------------------------------------------------------------\u001b[0m",
      "\u001b[0;31mNameError\u001b[0m                                 Traceback (most recent call last)",
      "\u001b[0;32m<ipython-input-2-b8123ba550e7>\u001b[0m in \u001b[0;36m<module>\u001b[0;34m\u001b[0m\n\u001b[1;32m     16\u001b[0m \u001b[0;34m\u001b[0m\u001b[0m\n\u001b[1;32m     17\u001b[0m \u001b[0mstat\u001b[0m\u001b[0;34m.\u001b[0m\u001b[0mprint_results\u001b[0m\u001b[0;34m(\u001b[0m\u001b[0;34m)\u001b[0m\u001b[0;34m\u001b[0m\u001b[0;34m\u001b[0m\u001b[0m\n\u001b[0;32m---> 18\u001b[0;31m \u001b[0mstat\u001b[0m\u001b[0;34m.\u001b[0m\u001b[0mplot\u001b[0m\u001b[0;34m(\u001b[0m\u001b[0;34m)\u001b[0m\u001b[0;34m\u001b[0m\u001b[0;34m\u001b[0m\u001b[0m\n\u001b[0m",
      "\u001b[0;32m<ipython-input-1-a38c3dd89eb8>\u001b[0m in \u001b[0;36mplot\u001b[0;34m(self)\u001b[0m\n\u001b[1;32m     84\u001b[0m     \u001b[0max1\u001b[0m\u001b[0;34m.\u001b[0m\u001b[0mset_xticklabels\u001b[0m\u001b[0;34m(\u001b[0m\u001b[0mxticklabs\u001b[0m\u001b[0;34m)\u001b[0m\u001b[0;34m\u001b[0m\u001b[0;34m\u001b[0m\u001b[0m\n\u001b[1;32m     85\u001b[0m     \u001b[0mprint\u001b[0m\u001b[0;34m(\u001b[0m\u001b[0mxticklabs\u001b[0m\u001b[0;34m)\u001b[0m\u001b[0;34m\u001b[0m\u001b[0;34m\u001b[0m\u001b[0m\n\u001b[0;32m---> 86\u001b[0;31m     \u001b[0max1\u001b[0m\u001b[0;34m.\u001b[0m\u001b[0mxaxis\u001b[0m\u001b[0;34m.\u001b[0m\u001b[0mset_minor_locator\u001b[0m\u001b[0;34m(\u001b[0m\u001b[0mMultipleLocator\u001b[0m\u001b[0;34m)\u001b[0m\u001b[0;34m\u001b[0m\u001b[0;34m\u001b[0m\u001b[0m\n\u001b[0m\u001b[1;32m     87\u001b[0m     \u001b[0;31m#for i in range(self.epoch_count):\u001b[0m\u001b[0;34m\u001b[0m\u001b[0;34m\u001b[0m\u001b[0;34m\u001b[0m\u001b[0m\n\u001b[1;32m     88\u001b[0m          \u001b[0;31m#, data=(np.array([j for j in range(3)]),np.array([j for j in range(3)])\u001b[0m\u001b[0;34m\u001b[0m\u001b[0;34m\u001b[0m\u001b[0;34m\u001b[0m\u001b[0m\n",
      "\u001b[0;31mNameError\u001b[0m: name 'MultipleLocator' is not defined"
     ]
    },
    {
     "data": {
      "image/png": "[encoded data removed]",
      "text/plain": [
       "<Figure size 500x300 with 1 Axes>"
      ]
     },
     "metadata": {
      "needs_background": "light"
     },
     "output_type": "display_data"
    }
   ],
   "source": [
    "stat=Statistics()\n",
    "pred=[0,0,0,0,1]\n",
    "real=[1,0,0,0,1]\n",
    "stat.new_experiment(\"loremipsum\",{\"batch_size\" : 64, \"lambda\" : 17})\n",
    "for e in range(3):\n",
    "    stat.new_epoch()\n",
    "    for b in range(5):\n",
    "        stat.add_batch_results(pred,real)\n",
    "pred=[0,0,0,0,1,0,1,1,1]\n",
    "real=[1,0,0,0,1,0,1,0,1]\n",
    "stat.new_experiment(\"alive\",{\"batch_size\" : 64, \"beta\" : 17})\n",
    "for e in range(1):\n",
    "    stat.new_epoch()\n",
    "    for b in range(10):\n",
    "        stat.add_batch_results(pred,real)\n",
    "\n",
    "stat.print_results()\n",
    "stat.plot()"
   ]
  },
  {
   "cell_type": "code",
   "execution_count": 9,
   "metadata": {
    "scrolled": true
   },
   "outputs": [
    {
     "data": {
      "text/plain": [
       "0.775"
      ]
     },
     "execution_count": 9,
     "metadata": {},
     "output_type": "execute_result"
    }
   ],
   "source": [
    "balanced_accuracy_score(pred,real)"
   ]
  },
  {
   "cell_type": "code",
   "execution_count": 18,
   "metadata": {},
   "outputs": [
    {
     "data": {
      "text/plain": [
       "0.7750000000000001"
      ]
     },
     "execution_count": 18,
     "metadata": {},
     "output_type": "execute_result"
    }
   ],
   "source": [
    "roc_auc_score(pred,real)"
   ]
  },
  {
   "cell_type": "code",
   "execution_count": 164,
   "metadata": {},
   "outputs": [
    {
     "name": "stdout",
     "output_type": "stream",
     "text": [
      "              precision    recall  f1-score   support\n",
      "\n",
      "           0       1.00      0.75      0.86         4\n",
      "           1       0.50      1.00      0.67         1\n",
      "\n",
      "   micro avg       0.80      0.80      0.80         5\n",
      "   macro avg       0.75      0.88      0.76         5\n",
      "weighted avg       0.90      0.80      0.82         5\n",
      "\n"
     ]
    }
   ],
   "source": [
    "print(classification_report(pred,real))"
   ]
  },
  {
   "cell_type": "code",
   "execution_count": 165,
   "metadata": {},
   "outputs": [],
   "source": [
    "d2 = dict()"
   ]
  },
  {
   "cell_type": "code",
   "execution_count": 166,
   "metadata": {},
   "outputs": [
    {
     "ename": "KeyError",
     "evalue": "'a'",
     "output_type": "error",
     "traceback": [
      "\u001b[0;31m---------------------------------------------------------------------------\u001b[0m",
      "\u001b[0;31mKeyError\u001b[0m                                  Traceback (most recent call last)",
      "\u001b[0;32m<ipython-input-166-b8a4542746a5>\u001b[0m in \u001b[0;36m<module>\u001b[0;34m\u001b[0m\n\u001b[0;32m----> 1\u001b[0;31m \u001b[0md2\u001b[0m\u001b[0;34m[\u001b[0m\u001b[0;34m'a'\u001b[0m\u001b[0;34m]\u001b[0m\u001b[0;34m.\u001b[0m\u001b[0mappend\u001b[0m\u001b[0;34m(\u001b[0m\u001b[0;36m7\u001b[0m\u001b[0;34m)\u001b[0m\u001b[0;34m\u001b[0m\u001b[0m\n\u001b[0m",
      "\u001b[0;31mKeyError\u001b[0m: 'a'"
     ]
    }
   ],
   "source": [
    "d2['a'].append(7)"
   ]
  },
  {
   "cell_type": "code",
   "execution_count": 213,
   "metadata": {},
   "outputs": [
    {
     "name": "stdout",
     "output_type": "stream",
     "text": [
      "{'a': [7]}\n",
      "[1, 6]\n"
     ]
    }
   ],
   "source": [
    "print(d)"
   ]
  },
  {
   "cell_type": "code",
   "execution_count": 225,
   "metadata": {},
   "outputs": [
    {
     "name": "stdout",
     "output_type": "stream",
     "text": [
      "(array([0.  , 0.25, 1.  ]), array([0., 1., 1.]), array([2, 1, 0]))\n"
     ]
    }
   ],
   "source": [
    "print(roc_curve(pred,real))"
   ]
  },
  {
   "cell_type": "code",
   "execution_count": 10,
   "metadata": {},
   "outputs": [
    {
     "name": "stdout",
     "output_type": "stream",
     "text": [
      "[1, 2, 1, 2]\n",
      "False\n",
      "False\n",
      "True\n"
     ]
    }
   ],
   "source": [
    "l=[1,2]\n",
    "l.extend(l)\n",
    "print(l)\n",
    "print(3 in l)\n",
    "print(2 in [])\n",
    "print(\"abcd\" == \"abc\" + \"d\")"
   ]
  },
  {
   "cell_type": "code",
   "execution_count": 381,
   "metadata": {},
   "outputs": [
    {
     "ename": "NameError",
     "evalue": "name 'xticklabs1' is not defined",
     "output_type": "error",
     "traceback": [
      "\u001b[0;31m---------------------------------------------------------------------------\u001b[0m",
      "\u001b[0;31mNameError\u001b[0m                                 Traceback (most recent call last)",
      "\u001b[0;32m<ipython-input-381-ddf5a1cbe482>\u001b[0m in \u001b[0;36m<module>\u001b[0;34m\u001b[0m\n\u001b[1;32m     41\u001b[0m     \u001b[0;32mif\u001b[0m \u001b[0mi\u001b[0m\u001b[0;34m%\u001b[0m\u001b[0;36m5\u001b[0m \u001b[0;34m==\u001b[0m \u001b[0;36m0\u001b[0m\u001b[0;34m:\u001b[0m\u001b[0;34m\u001b[0m\u001b[0m\n\u001b[1;32m     42\u001b[0m         \u001b[0mxticklabs2\u001b[0m\u001b[0;34m[\u001b[0m\u001b[0mi\u001b[0m\u001b[0;34m]\u001b[0m \u001b[0;34m=\u001b[0m \u001b[0;34m\"Epoch {}\"\u001b[0m\u001b[0;34m.\u001b[0m\u001b[0mformat\u001b[0m\u001b[0;34m(\u001b[0m\u001b[0mi\u001b[0m\u001b[0;34m//\u001b[0m\u001b[0;36m5\u001b[0m\u001b[0;34m)\u001b[0m \u001b[0;31m#r'$\\textcolor{{red}}{{Epoch {}}}$'\u001b[0m\u001b[0;34m\u001b[0m\u001b[0m\n\u001b[0;32m---> 43\u001b[0;31m \u001b[0max1\u001b[0m\u001b[0;34m.\u001b[0m\u001b[0mset_xticklabels\u001b[0m\u001b[0;34m(\u001b[0m\u001b[0mxticklabs1\u001b[0m\u001b[0;34m)\u001b[0m\u001b[0;34m\u001b[0m\u001b[0m\n\u001b[0m\u001b[1;32m     44\u001b[0m \u001b[0;34m\u001b[0m\u001b[0m\n\u001b[1;32m     45\u001b[0m \u001b[0mfig\u001b[0m\u001b[0;34m.\u001b[0m\u001b[0mtight_layout\u001b[0m\u001b[0;34m(\u001b[0m\u001b[0;34m)\u001b[0m\u001b[0;34m\u001b[0m\u001b[0m\n",
      "\u001b[0;31mNameError\u001b[0m: name 'xticklabs1' is not defined"
     ]
    },
    {
     "data": {
      "image/png": "[encoded data removed]",
      "text/plain": [
       "<Figure size 500x300 with 2 Axes>"
      ]
     },
     "metadata": {
      "needs_background": "light"
     },
     "output_type": "display_data"
    }
   ],
   "source": [
    "fig, ax1 = plt.subplots(1,1,figsize=(5,3),dpi=100)\n",
    "\n",
    "X = np.linspace(-3*np.pi,3*np.pi,1000)\n",
    "Y1 = np.sin(X)/(X+0.0001)\n",
    "Y2 = 1e3 * np.cos(X)\n",
    "Y3 =  np.exp(np.abs(X))\n",
    "\n",
    "# Twin the axis\n",
    "ax2 = ax1.twinx()\n",
    "\n",
    "# Plotting\n",
    "ax1.plot(X,Y1,'-r')\n",
    "ax2.plot(X,Y2,':b')\n",
    "\n",
    "# Color the axis and add labels\n",
    "ax1.set_ylabel('Y1',color='r')\n",
    "ax2.set_ylabel('Y2',color='b')\n",
    "\n",
    "ax1.tick_params(axis='y', colors='r')\n",
    "ax2.tick_params(axis='y', colors='b')\n",
    "\n",
    "# Set the spine colors. Really only need to do ax2 since that is on top\n",
    "# but this just makes 100% sure\n",
    "for ax in (ax1,ax2):\n",
    "    ax.spines['left'].set_color('r')\n",
    "    ax.spines['right'].set_color('b')\n",
    "\n",
    "from matplotlib import ticker\n",
    "formatter = ticker.ScalarFormatter(useMathText=True)\n",
    "formatter.set_scientific(True) \n",
    "formatter.set_powerlimits((-1,1)) \n",
    "ax2.yaxis.set_major_formatter(formatter)\n",
    "ax2.yaxis.get_offset_text().set_color('b') # Set the color of the power\n",
    "\n",
    "# Better X-Ticks\n",
    "ax1.set_xlim((X.min(),X.max()))\n",
    "ax1.set_xticks(np.arange(-3,4)*np.pi)\n",
    "xticklabs = [r'$\\mathregular{{{0:d}\\pi}}$'.format(i) for i in np.arange(-3,4)]; xticklabs[3]='0'\n",
    "xticklabs2 = [\"{}\".format(i) for i in range(10)]\n",
    "for i in range(10):\n",
    "    if i%5 == 0:\n",
    "        xticklabs2[i] = \"Epoch {}\".format(i//5) #r'$\\textcolor{{red}}{{Epoch {}}}$'\n",
    "ax1.set_xticklabels(xticklabs1) \n",
    "\n",
    "fig.tight_layout()"
   ]
  },
  {
   "cell_type": "code",
   "execution_count": 320,
   "metadata": {},
   "outputs": [],
   "source": [
    "xticklabs = [\"{}\".format(i) for i in range(10)]\n",
    "for i in range(10):\n",
    "    if i%5 == 0:\n",
    "        xticklabs[i] = r'$Epoch{}$'.format(i//2)"
   ]
  },
  {
   "cell_type": "code",
   "execution_count": 13,
   "metadata": {},
   "outputs": [
    {
     "name": "stdout",
     "output_type": "stream",
     "text": [
      "[7] []\n"
     ]
    }
   ],
   "source": [
    "l1 = []\n",
    "l2 = list(l1)\n",
    "l1.append(7)\n",
    "print(l1 , l2)"
   ]
  },
  {
   "cell_type": "code",
   "execution_count": 35,
   "metadata": {},
   "outputs": [
    {
     "data": {
      "text/plain": [
       "['$\\\\mathregular{-3\\\\pi}$',\n",
       " '$\\\\mathregular{-2\\\\pi}$',\n",
       " '$\\\\mathregular{-1\\\\pi}$',\n",
       " '$\\\\mathregular{0\\\\pi}$',\n",
       " '$\\\\mathregular{1\\\\pi}$',\n",
       " '$\\\\mathregular{2\\\\pi}$',\n",
       " '$\\\\mathregular{3\\\\pi}$']"
      ]
     },
     "execution_count": 35,
     "metadata": {},
     "output_type": "execute_result"
    }
   ],
   "source": [
    "[ r'$\\mathregular{{{0:d}\\pi}}$'.format(i) for i in np.arange(-3,4) ]"
   ]
  },
  {
   "cell_type": "code",
   "execution_count": 24,
   "metadata": {},
   "outputs": [],
   "source": [
    "from sklearn.metrics import confusion_matrix, classification_report, balanced_accuracy_score, \\\n",
    "roc_auc_score, classification_report, roc_curve\n",
    "import matplotlib.pyplot as plt\n",
    "from matplotlib import ticker\n",
    "import numpy as np\n",
    "# import ../utils/statistics\n",
    "import statistics\n",
    "\n",
    "def new_exp1(st):\n",
    "    st.new_experiment(\"loremipsum\", {\"batch_size\": 64, \"lambda\": 17})\n",
    "    n = \"{} \".format(len(st.list_experiment) - 1) + \"loremipsum\"\n",
    "    assert st.current_experiment_name == n\n",
    "    assert st.list_experiment[-1] == n\n",
    "    assert st.param[n] == {\"batch_size\": 64, \"lambda\": 17}\n",
    "    assert st.balanced_accuracy[n] == []\n",
    "    assert st.roc_area[n] == []\n",
    "    assert st.batch_count[n] == 0\n",
    "    assert st.epoch_count[n] == 0\n",
    "    \n",
    "def new_ep(st):\n",
    "    past_epoch_count = st.epoch_count[st.current_experiment_name]\n",
    "    st.new_epoch()\n",
    "    assert st.epoch_count[st.current_experiment_name] == past_epoch_count + 1\n",
    "        \n",
    "def add_b1(st):\n",
    "    pred = [0,0,0,0,1]\n",
    "    real = [1,0,0,0,1]\n",
    "    past_number_batch = st.batch_count[st.current_experiment_name]\n",
    "    past_y_pred = list(st.y_pred)\n",
    "    past_y_real = list(st.y_true)\n",
    "    st.add_batch_results(pred,real)\n",
    "    assert st.epoch_count[st.current_experiment_name] > 0\n",
    "    if st.epoch_count[st.current_experiment_name] == 1:\n",
    "        assert st.batch_count[st.current_experiment_name] == past_number_batch + 1\n",
    "    else:\n",
    "        assert st.batch_count[st.current_experiment_name] == past_number_batch\n",
    "    assert st.y_pred == past_y_pred + pred\n",
    "    assert st.y_true == past_y_real + real\n",
    "    #print(len(st.balanced_accuracy[st.current_experiment_name]), st.epoch_count[st.current_experiment_name], st.batch_count[st.current_experiment_name])\n",
    "    #assert len(st.balanced_accuracy[st.current_experiment_name]) == (st.epoch_count[st.current_experiment_name] - 1) * st.batch_count[st.current_experiment_name] + st.batch_count[st.current_experiment_name]\n",
    "    #assert len(st.roc_area[st.current_experiment_name]) == (st.epoch_count[st.current_experiment_name] - 1) * st.batch_count[st.current_experiment_name] + st.batch_count[st.current_experiment_name]\n",
    "    assert st.balanced_accuracy[st.current_experiment_name][-1] == 0.875\n",
    "    assert st.roc_area[st.current_experiment_name][-1] == 0.875\n",
    "    \n",
    "def new_exp2(st):\n",
    "    st.new_experiment(\"alive\", {\"batch_size\": 64, \"beta\": 17})\n",
    "    n = \"{} \".format(len(st.list_experiment) - 1) + \"alive\"\n",
    "    assert st.current_experiment_name == n\n",
    "    assert st.list_experiment[-1] == n\n",
    "    assert st.param[n] == {\"batch_size\": 64, \"beta\": 17}\n",
    "    assert st.balanced_accuracy[n] == []\n",
    "    assert st.roc_area[n] == []\n",
    "    assert st.batch_count[n] == 0\n",
    "    assert st.epoch_count[n] == 0\n",
    "\n",
    "        \n",
    "def add_b2(st):\n",
    "    pred = [0,0,0,0,1,0,1,1,1]\n",
    "    real = [1,0,0,0,1,0,1,0,1]\n",
    "    past_number_batch = st.batch_count[st.current_experiment_name]\n",
    "    past_y_pred = list(st.y_pred)\n",
    "    past_y_real = list(st.y_true)\n",
    "    st.add_batch_results(pred,real)\n",
    "    assert st.epoch_count[st.current_experiment_name] > 0\n",
    "    if st.epoch_count[st.current_experiment_name] == 1:\n",
    "        assert st.batch_count[st.current_experiment_name] == past_number_batch + 1\n",
    "    else:\n",
    "        assert st.batch_count[st.current_experiment_name] == past_number_batch\n",
    "    assert st.y_pred == past_y_pred + pred\n",
    "    assert st.y_true == past_y_real + real\n",
    "    #assert len(st.balanced_accuracy[st.current_experiment_name]) == (st.epoch_count[st.current_experiment_name] - 1) * st.batch_count + st.batch_count\n",
    "    #assert len(st.roc_area[st.current_experiment_name]) == (st.epoch_count - 1) * st.batch_count + st.batch_count\n",
    "    assert st.balanced_accuracy[st.current_experiment_name][-1] == 0.775\n",
    "    assert st.roc_area[st.current_experiment_name][-1] == 0.7750000000000001\n",
    "    \n",
    "def main():\n",
    "    stat = Statistics()\n",
    "    new_exp1(stat)\n",
    "    for e in range(3):\n",
    "        new_ep(stat)\n",
    "        for b in range(5):\n",
    "            add_b1(stat)\n",
    "    new_exp2(stat)\n",
    "    for e in range(1):\n",
    "        new_ep(stat)\n",
    "        for b in range(10):\n",
    "            add_b2(stat)\n",
    "\n",
    "if __name__ == '__main__':\n",
    "    main()"
   ]
  }
 ],
 "metadata": {
  "kernelspec": {
   "display_name": "Python 3",
   "language": "python",
   "name": "python3"
  },
  "language_info": {
   "codemirror_mode": {
    "name": "ipython",
    "version": 3
   },
   "file_extension": ".py",
   "mimetype": "text/x-python",
   "name": "python",
   "nbconvert_exporter": "python",
   "pygments_lexer": "ipython3",
   "version": "3.7.3"
  }
 },
 "nbformat": 4,
 "nbformat_minor": 2
}
